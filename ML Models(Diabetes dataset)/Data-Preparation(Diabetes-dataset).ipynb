{
 "cells": [
  {
   "cell_type": "code",
   "execution_count": 1,
   "metadata": {},
   "outputs": [],
   "source": [
    "import os\n",
    "import pandas as pd\n",
    "import numpy as np\n",
    "import warnings"
   ]
  },
  {
   "cell_type": "code",
   "execution_count": 2,
   "metadata": {},
   "outputs": [],
   "source": [
    "warnings.filterwarnings('ignore') #To ignore un-necessary warning"
   ]
  },
  {
   "cell_type": "markdown",
   "metadata": {},
   "source": [
    "### Extracting Files from Diabetes-data Folder"
   ]
  },
  {
   "cell_type": "code",
   "execution_count": 3,
   "metadata": {},
   "outputs": [
    {
     "data": {
      "text/plain": [
       "['data-01', 'data-02', 'data-03', 'data-04', 'data-05']"
      ]
     },
     "execution_count": 3,
     "metadata": {},
     "output_type": "execute_result"
    }
   ],
   "source": [
    "file_list = os.listdir('diabetes-data')\n",
    "file_list_filtered = [s for s in file_list if s.startswith('d')]\n",
    "file_list_filtered[:5]"
   ]
  },
  {
   "cell_type": "markdown",
   "metadata": {},
   "source": [
    "### Reading the files and appending them in the form of Dataframe"
   ]
  },
  {
   "cell_type": "code",
   "execution_count": 4,
   "metadata": {},
   "outputs": [],
   "source": [
    "df = None\n",
    "\n",
    "for data_file in file_list_filtered:\n",
    "    #print(data_file)\n",
    "    \n",
    "    temp_df = pd.read_table('diabetes-data/'+data_file,header = None)\n",
    "    temp_df['data-file'] = data_file\n",
    "    \n",
    "    if df is None :\n",
    "        df = temp_df\n",
    "    \n",
    "    else :\n",
    "        df = df.append(temp_df,ignore_index = True)"
   ]
  },
  {
   "cell_type": "code",
   "execution_count": 5,
   "metadata": {},
   "outputs": [
    {
     "data": {
      "text/html": [
       "<div>\n",
       "<style scoped>\n",
       "    .dataframe tbody tr th:only-of-type {\n",
       "        vertical-align: middle;\n",
       "    }\n",
       "\n",
       "    .dataframe tbody tr th {\n",
       "        vertical-align: top;\n",
       "    }\n",
       "\n",
       "    .dataframe thead th {\n",
       "        text-align: right;\n",
       "    }\n",
       "</style>\n",
       "<table border=\"1\" class=\"dataframe\">\n",
       "  <thead>\n",
       "    <tr style=\"text-align: right;\">\n",
       "      <th></th>\n",
       "      <th>0</th>\n",
       "      <th>1</th>\n",
       "      <th>2</th>\n",
       "      <th>3</th>\n",
       "      <th>data-file</th>\n",
       "    </tr>\n",
       "  </thead>\n",
       "  <tbody>\n",
       "    <tr>\n",
       "      <th>0</th>\n",
       "      <td>04-21-1991</td>\n",
       "      <td>9:09</td>\n",
       "      <td>58</td>\n",
       "      <td>100</td>\n",
       "      <td>data-01</td>\n",
       "    </tr>\n",
       "    <tr>\n",
       "      <th>1</th>\n",
       "      <td>04-21-1991</td>\n",
       "      <td>9:09</td>\n",
       "      <td>33</td>\n",
       "      <td>9</td>\n",
       "      <td>data-01</td>\n",
       "    </tr>\n",
       "    <tr>\n",
       "      <th>2</th>\n",
       "      <td>04-21-1991</td>\n",
       "      <td>9:09</td>\n",
       "      <td>34</td>\n",
       "      <td>13</td>\n",
       "      <td>data-01</td>\n",
       "    </tr>\n",
       "    <tr>\n",
       "      <th>3</th>\n",
       "      <td>04-21-1991</td>\n",
       "      <td>17:08</td>\n",
       "      <td>62</td>\n",
       "      <td>119</td>\n",
       "      <td>data-01</td>\n",
       "    </tr>\n",
       "    <tr>\n",
       "      <th>4</th>\n",
       "      <td>04-21-1991</td>\n",
       "      <td>17:08</td>\n",
       "      <td>33</td>\n",
       "      <td>7</td>\n",
       "      <td>data-01</td>\n",
       "    </tr>\n",
       "  </tbody>\n",
       "</table>\n",
       "</div>"
      ],
      "text/plain": [
       "            0      1   2    3 data-file\n",
       "0  04-21-1991   9:09  58  100   data-01\n",
       "1  04-21-1991   9:09  33    9   data-01\n",
       "2  04-21-1991   9:09  34   13   data-01\n",
       "3  04-21-1991  17:08  62  119   data-01\n",
       "4  04-21-1991  17:08  33    7   data-01"
      ]
     },
     "execution_count": 5,
     "metadata": {},
     "output_type": "execute_result"
    }
   ],
   "source": [
    "df.head() #Checking the dataframe"
   ]
  },
  {
   "cell_type": "code",
   "execution_count": 6,
   "metadata": {},
   "outputs": [
    {
     "data": {
      "text/plain": [
       "0            33\n",
       "1             0\n",
       "2             0\n",
       "3            33\n",
       "data-file     0\n",
       "dtype: int64"
      ]
     },
     "execution_count": 6,
     "metadata": {},
     "output_type": "execute_result"
    }
   ],
   "source": [
    "df.isna().sum                     #Checking for null values in each feature"
   ]
  },
  {
   "cell_type": "code",
   "execution_count": 7,
   "metadata": {},
   "outputs": [
    {
     "data": {
      "text/plain": [
       "0             99.887487\n",
       "1            100.000000\n",
       "2            100.000000\n",
       "3             99.887487\n",
       "data-file    100.000000\n",
       "dtype: float64"
      ]
     },
     "execution_count": 7,
     "metadata": {},
     "output_type": "execute_result"
    }
   ],
   "source": [
    "(df.count()/len(df)) * 100         #percentage of non-null values in each feature"
   ]
  },
  {
   "cell_type": "code",
   "execution_count": 8,
   "metadata": {},
   "outputs": [
    {
     "data": {
      "text/plain": [
       "0            0\n",
       "1            0\n",
       "2            0\n",
       "3            0\n",
       "data-file    0\n",
       "dtype: int64"
      ]
     },
     "execution_count": 8,
     "metadata": {},
     "output_type": "execute_result"
    }
   ],
   "source": [
    "df = df.dropna()                    #Dropping null values from each feature of the dataset\n",
    "df.isna().sum()"
   ]
  },
  {
   "cell_type": "code",
   "execution_count": 9,
   "metadata": {},
   "outputs": [
    {
     "data": {
      "text/plain": [
       "0            29264\n",
       "1            29264\n",
       "2            29264\n",
       "3            29264\n",
       "data-file    29264\n",
       "dtype: int64"
      ]
     },
     "execution_count": 9,
     "metadata": {},
     "output_type": "execute_result"
    }
   ],
   "source": [
    "df.count()                           # Number of non-null values in each feature of the dataset"
   ]
  },
  {
   "cell_type": "code",
   "execution_count": 10,
   "metadata": {},
   "outputs": [
    {
     "data": {
      "text/html": [
       "<div>\n",
       "<style scoped>\n",
       "    .dataframe tbody tr th:only-of-type {\n",
       "        vertical-align: middle;\n",
       "    }\n",
       "\n",
       "    .dataframe tbody tr th {\n",
       "        vertical-align: top;\n",
       "    }\n",
       "\n",
       "    .dataframe thead th {\n",
       "        text-align: right;\n",
       "    }\n",
       "</style>\n",
       "<table border=\"1\" class=\"dataframe\">\n",
       "  <thead>\n",
       "    <tr style=\"text-align: right;\">\n",
       "      <th></th>\n",
       "      <th>2</th>\n",
       "      <th>3</th>\n",
       "      <th>data-file</th>\n",
       "      <th>timestamp</th>\n",
       "    </tr>\n",
       "  </thead>\n",
       "  <tbody>\n",
       "    <tr>\n",
       "      <th>0</th>\n",
       "      <td>58</td>\n",
       "      <td>100</td>\n",
       "      <td>data-01</td>\n",
       "      <td>04-21-1991 9:09</td>\n",
       "    </tr>\n",
       "    <tr>\n",
       "      <th>1</th>\n",
       "      <td>33</td>\n",
       "      <td>9</td>\n",
       "      <td>data-01</td>\n",
       "      <td>04-21-1991 9:09</td>\n",
       "    </tr>\n",
       "    <tr>\n",
       "      <th>2</th>\n",
       "      <td>34</td>\n",
       "      <td>13</td>\n",
       "      <td>data-01</td>\n",
       "      <td>04-21-1991 9:09</td>\n",
       "    </tr>\n",
       "    <tr>\n",
       "      <th>3</th>\n",
       "      <td>62</td>\n",
       "      <td>119</td>\n",
       "      <td>data-01</td>\n",
       "      <td>04-21-1991 17:08</td>\n",
       "    </tr>\n",
       "    <tr>\n",
       "      <th>4</th>\n",
       "      <td>33</td>\n",
       "      <td>7</td>\n",
       "      <td>data-01</td>\n",
       "      <td>04-21-1991 17:08</td>\n",
       "    </tr>\n",
       "  </tbody>\n",
       "</table>\n",
       "</div>"
      ],
      "text/plain": [
       "    2    3 data-file         timestamp\n",
       "0  58  100   data-01   04-21-1991 9:09\n",
       "1  33    9   data-01   04-21-1991 9:09\n",
       "2  34   13   data-01   04-21-1991 9:09\n",
       "3  62  119   data-01  04-21-1991 17:08\n",
       "4  33    7   data-01  04-21-1991 17:08"
      ]
     },
     "execution_count": 10,
     "metadata": {},
     "output_type": "execute_result"
    }
   ],
   "source": [
    "'''\n",
    "Combining date and time attribute to form a single attribute to later convert it into timestamp.\n",
    "And then dropped columns for date and time from the dataframe. \n",
    "'''\n",
    "df['timestamp'] = df[0] +\" \"+ df[1]\n",
    "df.drop(columns=[0,1],inplace=True)\n",
    "df.head()"
   ]
  },
  {
   "cell_type": "code",
   "execution_count": 11,
   "metadata": {},
   "outputs": [
    {
     "data": {
      "text/html": [
       "<div>\n",
       "<style scoped>\n",
       "    .dataframe tbody tr th:only-of-type {\n",
       "        vertical-align: middle;\n",
       "    }\n",
       "\n",
       "    .dataframe tbody tr th {\n",
       "        vertical-align: top;\n",
       "    }\n",
       "\n",
       "    .dataframe thead th {\n",
       "        text-align: right;\n",
       "    }\n",
       "</style>\n",
       "<table border=\"1\" class=\"dataframe\">\n",
       "  <thead>\n",
       "    <tr style=\"text-align: right;\">\n",
       "      <th></th>\n",
       "      <th>code</th>\n",
       "      <th>value</th>\n",
       "      <th>data-file</th>\n",
       "      <th>timestamp</th>\n",
       "    </tr>\n",
       "  </thead>\n",
       "  <tbody>\n",
       "    <tr>\n",
       "      <th>0</th>\n",
       "      <td>58</td>\n",
       "      <td>100</td>\n",
       "      <td>data-01</td>\n",
       "      <td>04-21-1991 9:09</td>\n",
       "    </tr>\n",
       "    <tr>\n",
       "      <th>1</th>\n",
       "      <td>33</td>\n",
       "      <td>9</td>\n",
       "      <td>data-01</td>\n",
       "      <td>04-21-1991 9:09</td>\n",
       "    </tr>\n",
       "    <tr>\n",
       "      <th>2</th>\n",
       "      <td>34</td>\n",
       "      <td>13</td>\n",
       "      <td>data-01</td>\n",
       "      <td>04-21-1991 9:09</td>\n",
       "    </tr>\n",
       "    <tr>\n",
       "      <th>3</th>\n",
       "      <td>62</td>\n",
       "      <td>119</td>\n",
       "      <td>data-01</td>\n",
       "      <td>04-21-1991 17:08</td>\n",
       "    </tr>\n",
       "    <tr>\n",
       "      <th>4</th>\n",
       "      <td>33</td>\n",
       "      <td>7</td>\n",
       "      <td>data-01</td>\n",
       "      <td>04-21-1991 17:08</td>\n",
       "    </tr>\n",
       "  </tbody>\n",
       "</table>\n",
       "</div>"
      ],
      "text/plain": [
       "   code value data-file         timestamp\n",
       "0    58   100   data-01   04-21-1991 9:09\n",
       "1    33     9   data-01   04-21-1991 9:09\n",
       "2    34    13   data-01   04-21-1991 9:09\n",
       "3    62   119   data-01  04-21-1991 17:08\n",
       "4    33     7   data-01  04-21-1991 17:08"
      ]
     },
     "execution_count": 11,
     "metadata": {},
     "output_type": "execute_result"
    }
   ],
   "source": [
    "df.rename(columns={2:'code',3:'value'},inplace=True) # Renaming columns to the names given in Readme.md file of diabetes-dataset\n",
    "df.head()"
   ]
  },
  {
   "cell_type": "code",
   "execution_count": 12,
   "metadata": {},
   "outputs": [],
   "source": [
    "# Mapping code values to their meaning as mentioned in Readme.md\n",
    "decipher = {\n",
    "    \n",
    "    33 : 'Regular insulin dose',\n",
    "    34 : 'NPH insulin dose',\n",
    "    35 : 'UltraLente insulin dose',\n",
    "    48 : 'Unspecified blood glucose measurement',\n",
    "    57 : 'Unspecified blood glucose measurement',\n",
    "    58 : 'Pre-breakfast blood glucose measurement',\n",
    "    59 : 'Post-breakfast blood glucose measurement',\n",
    "    60 : 'Pre-lunch blood glucose measurement',\n",
    "    61 : 'Post-lunch blood glucose measurement',\n",
    "    62 : 'Pre-supper blood glucose measurement',\n",
    "    63 : 'Post-supper blood glucose measurement',\n",
    "    64 : 'Pre-snack blood glucose measurement',\n",
    "    65 : 'Hypoglycemic symptoms',\n",
    "    66 : 'Typical meal ingestion',\n",
    "    67 : 'More-than-usual meal ingestion',\n",
    "    68 : 'Less-than-usual meal ingestion',\n",
    "    69 : 'Typical exercise activity',\n",
    "    70 : 'More-than-usual exercise activity',\n",
    "    71 : 'Less-than-usual exercise activity',\n",
    "    72 : 'Unspecified special event',\n",
    "}"
   ]
  },
  {
   "cell_type": "code",
   "execution_count": 13,
   "metadata": {},
   "outputs": [
    {
     "data": {
      "text/html": [
       "<div>\n",
       "<style scoped>\n",
       "    .dataframe tbody tr th:only-of-type {\n",
       "        vertical-align: middle;\n",
       "    }\n",
       "\n",
       "    .dataframe tbody tr th {\n",
       "        vertical-align: top;\n",
       "    }\n",
       "\n",
       "    .dataframe thead th {\n",
       "        text-align: right;\n",
       "    }\n",
       "</style>\n",
       "<table border=\"1\" class=\"dataframe\">\n",
       "  <thead>\n",
       "    <tr style=\"text-align: right;\">\n",
       "      <th></th>\n",
       "      <th>code</th>\n",
       "      <th>value</th>\n",
       "      <th>data-file</th>\n",
       "      <th>timestamp</th>\n",
       "    </tr>\n",
       "  </thead>\n",
       "  <tbody>\n",
       "    <tr>\n",
       "      <th>0</th>\n",
       "      <td>Pre-breakfast blood glucose measurement</td>\n",
       "      <td>100</td>\n",
       "      <td>data-01</td>\n",
       "      <td>04-21-1991 9:09</td>\n",
       "    </tr>\n",
       "    <tr>\n",
       "      <th>1</th>\n",
       "      <td>Regular insulin dose</td>\n",
       "      <td>9</td>\n",
       "      <td>data-01</td>\n",
       "      <td>04-21-1991 9:09</td>\n",
       "    </tr>\n",
       "    <tr>\n",
       "      <th>2</th>\n",
       "      <td>NPH insulin dose</td>\n",
       "      <td>13</td>\n",
       "      <td>data-01</td>\n",
       "      <td>04-21-1991 9:09</td>\n",
       "    </tr>\n",
       "    <tr>\n",
       "      <th>3</th>\n",
       "      <td>Pre-supper blood glucose measurement</td>\n",
       "      <td>119</td>\n",
       "      <td>data-01</td>\n",
       "      <td>04-21-1991 17:08</td>\n",
       "    </tr>\n",
       "    <tr>\n",
       "      <th>4</th>\n",
       "      <td>Regular insulin dose</td>\n",
       "      <td>7</td>\n",
       "      <td>data-01</td>\n",
       "      <td>04-21-1991 17:08</td>\n",
       "    </tr>\n",
       "  </tbody>\n",
       "</table>\n",
       "</div>"
      ],
      "text/plain": [
       "                                      code value data-file         timestamp\n",
       "0  Pre-breakfast blood glucose measurement   100   data-01   04-21-1991 9:09\n",
       "1                     Regular insulin dose     9   data-01   04-21-1991 9:09\n",
       "2                         NPH insulin dose    13   data-01   04-21-1991 9:09\n",
       "3     Pre-supper blood glucose measurement   119   data-01  04-21-1991 17:08\n",
       "4                     Regular insulin dose     7   data-01  04-21-1991 17:08"
      ]
     },
     "execution_count": 13,
     "metadata": {},
     "output_type": "execute_result"
    }
   ],
   "source": [
    "#Replacing codes with deciphered values....\n",
    "\n",
    "df['code'] = df['code'].map(lambda x : decipher[x] if x in decipher.keys() else None)\n",
    "df.head()"
   ]
  },
  {
   "cell_type": "code",
   "execution_count": 14,
   "metadata": {},
   "outputs": [
    {
     "data": {
      "text/plain": [
       "code         121\n",
       "value          0\n",
       "data-file      0\n",
       "timestamp      0\n",
       "dtype: int64"
      ]
     },
     "execution_count": 14,
     "metadata": {},
     "output_type": "execute_result"
    }
   ],
   "source": [
    "df.isna().sum()             #Checking for null values in each feature"
   ]
  },
  {
   "cell_type": "code",
   "execution_count": 15,
   "metadata": {},
   "outputs": [
    {
     "data": {
      "text/plain": [
       "code         0\n",
       "value        0\n",
       "data-file    0\n",
       "timestamp    0\n",
       "dtype: int64"
      ]
     },
     "execution_count": 15,
     "metadata": {},
     "output_type": "execute_result"
    }
   ],
   "source": [
    "df.dropna(inplace=True)         #Dropping null values from each feature of the dataset\n",
    "df.isna().sum()   #Checking for null values in each feature"
   ]
  },
  {
   "cell_type": "code",
   "execution_count": 16,
   "metadata": {},
   "outputs": [
    {
     "data": {
      "text/plain": [
       "code         29143\n",
       "value        29143\n",
       "data-file    29143\n",
       "timestamp    29143\n",
       "dtype: int64"
      ]
     },
     "execution_count": 16,
     "metadata": {},
     "output_type": "execute_result"
    }
   ],
   "source": [
    "df.count()                     # Number of non-null values in each feature of the dataset"
   ]
  },
  {
   "cell_type": "code",
   "execution_count": 17,
   "metadata": {},
   "outputs": [
    {
     "data": {
      "text/html": [
       "<div>\n",
       "<style scoped>\n",
       "    .dataframe tbody tr th:only-of-type {\n",
       "        vertical-align: middle;\n",
       "    }\n",
       "\n",
       "    .dataframe tbody tr th {\n",
       "        vertical-align: top;\n",
       "    }\n",
       "\n",
       "    .dataframe thead th {\n",
       "        text-align: right;\n",
       "    }\n",
       "</style>\n",
       "<table border=\"1\" class=\"dataframe\">\n",
       "  <thead>\n",
       "    <tr style=\"text-align: right;\">\n",
       "      <th></th>\n",
       "      <th>code</th>\n",
       "      <th>value</th>\n",
       "      <th>data-file</th>\n",
       "      <th>timestamp</th>\n",
       "    </tr>\n",
       "  </thead>\n",
       "  <tbody>\n",
       "    <tr>\n",
       "      <th>0</th>\n",
       "      <td>Pre-breakfast blood glucose measurement</td>\n",
       "      <td>100</td>\n",
       "      <td>data-01</td>\n",
       "      <td>672224940.0</td>\n",
       "    </tr>\n",
       "    <tr>\n",
       "      <th>1</th>\n",
       "      <td>Regular insulin dose</td>\n",
       "      <td>9</td>\n",
       "      <td>data-01</td>\n",
       "      <td>672224940.0</td>\n",
       "    </tr>\n",
       "    <tr>\n",
       "      <th>2</th>\n",
       "      <td>NPH insulin dose</td>\n",
       "      <td>13</td>\n",
       "      <td>data-01</td>\n",
       "      <td>672224940.0</td>\n",
       "    </tr>\n",
       "    <tr>\n",
       "      <th>3</th>\n",
       "      <td>Pre-supper blood glucose measurement</td>\n",
       "      <td>119</td>\n",
       "      <td>data-01</td>\n",
       "      <td>672253680.0</td>\n",
       "    </tr>\n",
       "    <tr>\n",
       "      <th>4</th>\n",
       "      <td>Regular insulin dose</td>\n",
       "      <td>7</td>\n",
       "      <td>data-01</td>\n",
       "      <td>672253680.0</td>\n",
       "    </tr>\n",
       "  </tbody>\n",
       "</table>\n",
       "</div>"
      ],
      "text/plain": [
       "                                      code value data-file    timestamp\n",
       "0  Pre-breakfast blood glucose measurement   100   data-01  672224940.0\n",
       "1                     Regular insulin dose     9   data-01  672224940.0\n",
       "2                         NPH insulin dose    13   data-01  672224940.0\n",
       "3     Pre-supper blood glucose measurement   119   data-01  672253680.0\n",
       "4                     Regular insulin dose     7   data-01  672253680.0"
      ]
     },
     "execution_count": 17,
     "metadata": {},
     "output_type": "execute_result"
    }
   ],
   "source": [
    "'''\n",
    "Converting string timestamp to datetime object\n",
    "and then converting it to the posix time..\n",
    "'''\n",
    "df['timestamp'] = pd.to_datetime(df['timestamp'],errors='coerce')\n",
    "df['timestamp'] = df['timestamp'].map(lambda x : (x - pd.Timestamp(\"1970-01-01\")) // pd.Timedelta('1s'))\n",
    "df.head()"
   ]
  },
  {
   "cell_type": "code",
   "execution_count": 18,
   "metadata": {},
   "outputs": [
    {
     "data": {
      "text/html": [
       "<div>\n",
       "<style scoped>\n",
       "    .dataframe tbody tr th:only-of-type {\n",
       "        vertical-align: middle;\n",
       "    }\n",
       "\n",
       "    .dataframe tbody tr th {\n",
       "        vertical-align: top;\n",
       "    }\n",
       "\n",
       "    .dataframe thead th {\n",
       "        text-align: right;\n",
       "    }\n",
       "</style>\n",
       "<table border=\"1\" class=\"dataframe\">\n",
       "  <thead>\n",
       "    <tr style=\"text-align: right;\">\n",
       "      <th></th>\n",
       "      <th>code</th>\n",
       "      <th>value</th>\n",
       "      <th>data-file</th>\n",
       "      <th>timestamp</th>\n",
       "    </tr>\n",
       "  </thead>\n",
       "  <tbody>\n",
       "    <tr>\n",
       "      <th>0</th>\n",
       "      <td>NPH insulin dose</td>\n",
       "      <td>20</td>\n",
       "      <td>data-68</td>\n",
       "      <td>575452800.0</td>\n",
       "    </tr>\n",
       "    <tr>\n",
       "      <th>1</th>\n",
       "      <td>Pre-breakfast blood glucose measurement</td>\n",
       "      <td>134</td>\n",
       "      <td>data-68</td>\n",
       "      <td>575452800.0</td>\n",
       "    </tr>\n",
       "    <tr>\n",
       "      <th>2</th>\n",
       "      <td>Pre-lunch blood glucose measurement</td>\n",
       "      <td>158</td>\n",
       "      <td>data-68</td>\n",
       "      <td>575467200.0</td>\n",
       "    </tr>\n",
       "    <tr>\n",
       "      <th>3</th>\n",
       "      <td>Pre-supper blood glucose measurement</td>\n",
       "      <td>258</td>\n",
       "      <td>data-68</td>\n",
       "      <td>575488800.0</td>\n",
       "    </tr>\n",
       "    <tr>\n",
       "      <th>4</th>\n",
       "      <td>Pre-breakfast blood glucose measurement</td>\n",
       "      <td>115</td>\n",
       "      <td>data-68</td>\n",
       "      <td>575539200.0</td>\n",
       "    </tr>\n",
       "  </tbody>\n",
       "</table>\n",
       "</div>"
      ],
      "text/plain": [
       "                                      code value data-file    timestamp\n",
       "0                         NPH insulin dose    20   data-68  575452800.0\n",
       "1  Pre-breakfast blood glucose measurement   134   data-68  575452800.0\n",
       "2      Pre-lunch blood glucose measurement   158   data-68  575467200.0\n",
       "3     Pre-supper blood glucose measurement   258   data-68  575488800.0\n",
       "4  Pre-breakfast blood glucose measurement   115   data-68  575539200.0"
      ]
     },
     "execution_count": 18,
     "metadata": {},
     "output_type": "execute_result"
    }
   ],
   "source": [
    "df.sort_values(by='timestamp',ignore_index=True,inplace=True) # Sorting dataframe according to timestamp in asc order...\n",
    "df.head()"
   ]
  },
  {
   "cell_type": "code",
   "execution_count": 19,
   "metadata": {},
   "outputs": [
    {
     "data": {
      "text/html": [
       "<div>\n",
       "<style scoped>\n",
       "    .dataframe tbody tr th:only-of-type {\n",
       "        vertical-align: middle;\n",
       "    }\n",
       "\n",
       "    .dataframe tbody tr th {\n",
       "        vertical-align: top;\n",
       "    }\n",
       "\n",
       "    .dataframe thead th {\n",
       "        text-align: right;\n",
       "    }\n",
       "</style>\n",
       "<table border=\"1\" class=\"dataframe\">\n",
       "  <thead>\n",
       "    <tr style=\"text-align: right;\">\n",
       "      <th></th>\n",
       "      <th>value</th>\n",
       "      <th>code</th>\n",
       "      <th>timestamp</th>\n",
       "    </tr>\n",
       "  </thead>\n",
       "  <tbody>\n",
       "    <tr>\n",
       "      <th>0</th>\n",
       "      <td>20</td>\n",
       "      <td>NPH insulin dose</td>\n",
       "      <td>575452800.0</td>\n",
       "    </tr>\n",
       "    <tr>\n",
       "      <th>1</th>\n",
       "      <td>134</td>\n",
       "      <td>Pre-breakfast blood glucose measurement</td>\n",
       "      <td>575452800.0</td>\n",
       "    </tr>\n",
       "    <tr>\n",
       "      <th>2</th>\n",
       "      <td>158</td>\n",
       "      <td>Pre-lunch blood glucose measurement</td>\n",
       "      <td>575467200.0</td>\n",
       "    </tr>\n",
       "    <tr>\n",
       "      <th>3</th>\n",
       "      <td>258</td>\n",
       "      <td>Pre-supper blood glucose measurement</td>\n",
       "      <td>575488800.0</td>\n",
       "    </tr>\n",
       "    <tr>\n",
       "      <th>4</th>\n",
       "      <td>115</td>\n",
       "      <td>Pre-breakfast blood glucose measurement</td>\n",
       "      <td>575539200.0</td>\n",
       "    </tr>\n",
       "  </tbody>\n",
       "</table>\n",
       "</div>"
      ],
      "text/plain": [
       "  value                                     code    timestamp\n",
       "0    20                         NPH insulin dose  575452800.0\n",
       "1   134  Pre-breakfast blood glucose measurement  575452800.0\n",
       "2   158      Pre-lunch blood glucose measurement  575467200.0\n",
       "3   258     Pre-supper blood glucose measurement  575488800.0\n",
       "4   115  Pre-breakfast blood glucose measurement  575539200.0"
      ]
     },
     "execution_count": 19,
     "metadata": {},
     "output_type": "execute_result"
    }
   ],
   "source": [
    "'''\n",
    "Dropping data-file feature and \n",
    "rearranging other feature in the\n",
    "dataframe\n",
    "'''\n",
    "df.drop(columns='data-file')\n",
    "df = df[['value','code','timestamp']]\n",
    "df.head()"
   ]
  },
  {
   "cell_type": "code",
   "execution_count": 20,
   "metadata": {},
   "outputs": [],
   "source": [
    "#df.to_csv('./datasets/prefinal.csv') # Saving this DataFrame as csv file"
   ]
  }
 ],
 "metadata": {
  "kernelspec": {
   "display_name": "Python 3",
   "language": "python",
   "name": "python3"
  },
  "language_info": {
   "codemirror_mode": {
    "name": "ipython",
    "version": 3
   },
   "file_extension": ".py",
   "mimetype": "text/x-python",
   "name": "python",
   "nbconvert_exporter": "python",
   "pygments_lexer": "ipython3",
   "version": "3.8.3"
  }
 },
 "nbformat": 4,
 "nbformat_minor": 4
}

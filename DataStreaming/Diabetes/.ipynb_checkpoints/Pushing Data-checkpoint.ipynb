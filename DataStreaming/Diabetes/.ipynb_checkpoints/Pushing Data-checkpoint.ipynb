{
 "cells": [
  {
   "cell_type": "code",
   "execution_count": 1,
   "metadata": {},
   "outputs": [],
   "source": [
    "import socket\n",
    "from time import sleep"
   ]
  },
  {
   "cell_type": "code",
   "execution_count": 2,
   "metadata": {},
   "outputs": [],
   "source": [
    "# change port if its occupied already\n",
    "host = 'localhost'\n",
    "port = 9990"
   ]
  },
  {
   "cell_type": "code",
   "execution_count": 3,
   "metadata": {},
   "outputs": [],
   "source": [
    "s = socket.socket(socket.AF_INET, socket.SOCK_STREAM)\n",
    "s.bind((host, port))\n",
    "s.listen(1)"
   ]
  },
  {
   "cell_type": "code",
   "execution_count": null,
   "metadata": {},
   "outputs": [
    {
     "name": "stdout",
     "output_type": "stream",
     "text": [
      "\n",
      "Pushing data at host = localhost 9990\n"
     ]
    }
   ],
   "source": [
    "while True:\n",
    "    print('\\nPushing data at host =',host , port)\n",
    "    conn, addr = s.accept()\n",
    "    print('\\nConnected by', addr)\n",
    "    try:\n",
    "        print('\\nReading dataset...\\n')\n",
    "        with open('test.csv') as f:\n",
    "            for line in f:\n",
    "                out = line.encode('utf-8')\n",
    "                print('Sending records',line)\n",
    "                conn.send(out)\n",
    "                sleep(1)\n",
    "            print('End Of Streaming.')\n",
    "            conn.close()\n",
    "    except socket.error:\n",
    "        print ('socket error \\n')\n",
    "        conn.close()"
   ]
  },
  {
   "cell_type": "code",
   "execution_count": null,
   "metadata": {},
   "outputs": [],
   "source": []
  },
  {
   "cell_type": "code",
   "execution_count": null,
   "metadata": {},
   "outputs": [],
   "source": []
  }
 ],
 "metadata": {
  "kernelspec": {
   "display_name": "Python 3",
   "language": "python",
   "name": "python3"
  },
  "language_info": {
   "codemirror_mode": {
    "name": "ipython",
    "version": 3
   },
   "file_extension": ".py",
   "mimetype": "text/x-python",
   "name": "python",
   "nbconvert_exporter": "python",
   "pygments_lexer": "ipython3",
   "version": "3.8.3"
  }
 },
 "nbformat": 4,
 "nbformat_minor": 4
}
